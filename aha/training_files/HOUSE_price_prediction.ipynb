{
  "nbformat": 4,
  "nbformat_minor": 0,
  "metadata": {
    "colab": {
      "provenance": []
    },
    "kernelspec": {
      "name": "python3",
      "display_name": "Python 3"
    },
    "language_info": {
      "name": "python"
    }
  },
  "cells": [
    {
      "cell_type": "code",
      "source": [
        "from google.colab import drive\n",
        "drive.mount('/content/drive')"
      ],
      "metadata": {
        "id": "ZIGJSOOyQ9GP",
        "colab": {
          "base_uri": "https://localhost:8080/"
        },
        "outputId": "2e41c70a-f7b5-4f55-f3b4-ac7e6e24b0f5"
      },
      "execution_count": 1,
      "outputs": [
        {
          "output_type": "stream",
          "name": "stdout",
          "text": [
            "Drive already mounted at /content/drive; to attempt to forcibly remount, call drive.mount(\"/content/drive\", force_remount=True).\n"
          ]
        }
      ]
    },
    {
      "cell_type": "markdown",
      "source": [
        "scikit-learn"
      ],
      "metadata": {
        "id": "4LV3mmwXlgDv"
      }
    },
    {
      "cell_type": "code",
      "execution_count": 3,
      "metadata": {
        "id": "rLNsLbv6QEY9",
        "colab": {
          "base_uri": "https://localhost:8080/"
        },
        "outputId": "22f4f170-3867-46c5-e134-eafd52479fbf"
      },
      "outputs": [
        {
          "output_type": "stream",
          "name": "stdout",
          "text": [
            "           id             date     price  bedrooms  bathrooms  sqft_living  sqft_lot  floors  waterfront  view  condition  grade  sqft_above  sqft_basement  yr_built  yr_renovated  zipcode      lat     long  sqft_living15  sqft_lot15\n",
            "0  7129300520  20141013T000000  221900.0         3       1.00         1180      5650     1.0           0     0          3      7      1180.0              0      1955             0    98178  47.5112 -122.257           1340        5650\n",
            "1  6414100192  20141209T000000  538000.0         3       2.25         2570      7242     2.0           0     0          3      7      2170.0            400      1951          1991    98125  47.7210 -122.319           1690        7639\n",
            "2  5631500400  20150225T000000  180000.0         2       1.00          770     10000     1.0           0     0          3      6       770.0              0      1933             0    98028  47.7379 -122.233           2720        8062\n",
            "3  2487200875  20141209T000000  604000.0         4       3.00         1960      5000     1.0           0     0          5      7      1050.0            910      1965             0    98136  47.5208 -122.393           1360        5000\n",
            "4  1954400510  20150218T000000  510000.0         3       2.00         1680      8080     1.0           0     0          3      8      1680.0              0      1987             0    98074  47.6168 -122.045           1800        7503\n"
          ]
        },
        {
          "output_type": "execute_result",
          "data": {
            "text/plain": [
              "(21613, 21)"
            ]
          },
          "metadata": {},
          "execution_count": 3
        }
      ],
      "source": [
        "from sklearn.model_selection import train_test_split\n",
        "from sklearn.linear_model import LinearRegression\n",
        "import pandas as pdd\n",
        "\n",
        "# Loading the dataset\n",
        "data_h = pdd.read_csv('/content/drive/MyDrive/kc_house_data.csv')\n",
        "print(data_h.head().to_string())\n",
        "\n",
        "data_h.shape"
      ]
    },
    {
      "cell_type": "code",
      "source": [
        "data_h.columns"
      ],
      "metadata": {
        "colab": {
          "base_uri": "https://localhost:8080/"
        },
        "id": "ZCbDklobFXB3",
        "outputId": "6e0b4c8f-e649-435c-8585-95ecae1b1e65"
      },
      "execution_count": 4,
      "outputs": [
        {
          "output_type": "execute_result",
          "data": {
            "text/plain": [
              "Index(['id', 'date', 'price', 'bedrooms', 'bathrooms', 'sqft_living',\n",
              "       'sqft_lot', 'floors', 'waterfront', 'view', 'condition', 'grade',\n",
              "       'sqft_above', 'sqft_basement', 'yr_built', 'yr_renovated', 'zipcode',\n",
              "       'lat', 'long', 'sqft_living15', 'sqft_lot15'],\n",
              "      dtype='object')"
            ]
          },
          "metadata": {},
          "execution_count": 4
        }
      ]
    },
    {
      "cell_type": "code",
      "source": [
        "# Selecting the features and target variable\n",
        "Features1 = ['bedrooms', 'bathrooms', 'sqft_living', 'sqft_lot', 'floors']\n",
        "target = 'price'\n",
        "X1 = data_h[Features1]\n",
        "y1 = data_h[target]\n",
        "print(X1.columns)\n",
        "# print(y1.columns)"
      ],
      "metadata": {
        "colab": {
          "base_uri": "https://localhost:8080/"
        },
        "id": "OOzLoOt-QS9Y",
        "outputId": "bca8ea36-a845-4b56-8f32-fa5ffdf93b04"
      },
      "execution_count": 5,
      "outputs": [
        {
          "output_type": "stream",
          "name": "stdout",
          "text": [
            "Index(['bedrooms', 'bathrooms', 'sqft_living', 'sqft_lot', 'floors'], dtype='object')\n"
          ]
        }
      ]
    },
    {
      "cell_type": "code",
      "source": [
        "# We will perform the data splitting into training and testing sets\n",
        "X_train, X_test, y_train, y_test = train_test_split(X1, y1, test_size=0.2, random_state=42)"
      ],
      "metadata": {
        "id": "BPy9RtgYQU64"
      },
      "execution_count": 6,
      "outputs": []
    },
    {
      "cell_type": "code",
      "source": [
        "\n",
        "# instance of the Linear Regression model creation\n",
        "model = LinearRegression()\n",
        "\n",
        "# Training the model\n",
        "model.fit(X_train, y_train)\n",
        "\n",
        "# Making predictions on the test set\n",
        "y_pred = model.predict(X_test)\n"
      ],
      "metadata": {
        "id": "9oCmJyB0QXEw"
      },
      "execution_count": 7,
      "outputs": []
    },
    {
      "cell_type": "code",
      "source": [
        "# Evaluating the model\n",
        "score = model.score(X_test, y_test)\n",
        "print(\"Model R^2 Score:\", score)\n",
        "\n"
      ],
      "metadata": {
        "colab": {
          "base_uri": "https://localhost:8080/"
        },
        "id": "y-TDH61-QbCI",
        "outputId": "d9e1cd84-a2e0-4008-ec1c-d6ef53d2fca4"
      },
      "execution_count": null,
      "outputs": [
        {
          "output_type": "stream",
          "name": "stdout",
          "text": [
            "Model R^2 Score: 0.5103248491507681\n"
          ]
        }
      ]
    },
    {
      "cell_type": "code",
      "source": [
        "# Predicting the price of a new house\n",
        "new_house = pdd.DataFrame({'bedrooms': [2], 'bathrooms': [2.5], 'sqft_living': [600], 'sqft_lot': [600], 'floors': [2]})\n",
        "predicted_price = model.predict(new_house)\n",
        "print(\"Predicted Price:\", predicted_price[0])"
      ],
      "metadata": {
        "colab": {
          "base_uri": "https://localhost:8080/"
        },
        "id": "Wq8u3jz3Qi0y",
        "outputId": "ad26b39f-2952-4702-a401-bf2f918ac3b3"
      },
      "execution_count": 8,
      "outputs": [
        {
          "output_type": "stream",
          "name": "stdout",
          "text": [
            "Predicted Price: 167689.08181953817\n"
          ]
        }
      ]
    },
    {
      "cell_type": "code",
      "source": [
        "new_house = pdd.DataFrame({'bedrooms': [1], 'bathrooms': [1], 'sqft_living': [200], 'sqft_lot': [200], 'floors': [1]})\n",
        "predicted_price = model.predict(new_house)\n",
        "print(\"Predicted Price:\", predicted_price[0])"
      ],
      "metadata": {
        "colab": {
          "base_uri": "https://localhost:8080/"
        },
        "id": "ktlhmbBPR_bZ",
        "outputId": "55c49a7f-64c4-49a8-ad12-f4d625fd6780"
      },
      "execution_count": 9,
      "outputs": [
        {
          "output_type": "stream",
          "name": "stdout",
          "text": [
            "Predicted Price: 88661.63199026202\n"
          ]
        }
      ]
    }
  ]
}